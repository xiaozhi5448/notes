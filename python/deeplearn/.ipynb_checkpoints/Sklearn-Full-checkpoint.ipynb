{
 "cells": [
  {
   "cell_type": "markdown",
   "metadata": {},
   "source": [
    "# 简介"
   ]
  },
  {
   "cell_type": "markdown",
   "metadata": {},
   "source": [
    "sklearn是实现了众多机器学习算法的库，可以帮助我们完成一些机器学习的研究任务。sklearn对机器学习模型做了高度抽象，\n",
    "对所有的模型来说，fit用来训练，predict用来预测，predict_proba用来预测概率等等。这篇笔记的目的在与记录使用\n",
    "sklearn完成机器学习任务的一般步骤与sklearn库的使用方法\n",
    "\n",
    "\n",
    "\n"
   ]
  },
  {
   "cell_type": "code",
   "execution_count": null,
   "metadata": {},
   "outputs": [],
   "source": []
  }
 ],
 "metadata": {
  "kernelspec": {
   "display_name": "Python 3",
   "language": "python",
   "name": "python3"
  },
  "language_info": {
   "codemirror_mode": {
    "name": "ipython",
    "version": 3
   },
   "file_extension": ".py",
   "mimetype": "text/x-python",
   "name": "python",
   "nbconvert_exporter": "python",
   "pygments_lexer": "ipython3",
   "version": "3.7.4"
  }
 },
 "nbformat": 4,
 "nbformat_minor": 2
}
